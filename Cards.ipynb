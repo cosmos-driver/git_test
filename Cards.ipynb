{
  "nbformat": 4,
  "nbformat_minor": 0,
  "metadata": {
    "colab": {
      "provenance": [],
      "authorship_tag": "ABX9TyMQjyZe2wprWBUMI9V9NS1r",
      "include_colab_link": true
    },
    "kernelspec": {
      "name": "python3",
      "display_name": "Python 3"
    },
    "language_info": {
      "name": "python"
    }
  },
  "cells": [
    {
      "cell_type": "markdown",
      "metadata": {
        "id": "view-in-github",
        "colab_type": "text"
      },
      "source": [
        "<a href=\"https://colab.research.google.com/github/cosmos-driver/git_test/blob/main/Cards.ipynb\" target=\"_parent\"><img src=\"https://colab.research.google.com/assets/colab-badge.svg\" alt=\"Open In Colab\"/></a>"
      ]
    },
    {
      "cell_type": "code",
      "execution_count": 1,
      "metadata": {
        "id": "0QktzRBZMa2c"
      },
      "outputs": [],
      "source": [
        "suits = [\"Clubs\", \"Spades\", \"Hearts\", \"Diamonds\"] #A variable called \"suits\" is assigned an array of 4 strings, respresenting the suits in a deck of cards. *Also called a list since it starts and ends with a square bracket*\n",
        "faces = [\"Jack\", \"Queen\", \"King\", \"Ace\"] # variable called \"faces\" assigned an array of the 4 face cards.\n",
        "numbered = [2, 3, 4, 5, 6, 7, 8, 9, 10] # array called \"numbered\" represents the deck's numbered cards.\n",
        "\n",
        "\n"
      ]
    },
    {
      "cell_type": "code",
      "source": [
        "import random # A library is included to provide support for randomess"
      ],
      "metadata": {
        "id": "joRDbfg_NPd4"
      },
      "execution_count": 2,
      "outputs": []
    },
    {
      "cell_type": "code",
      "source": [
        "def draw(): #empty parenteses means its a start of a function\n",
        "    which_suit = random.choice(suits) #Randomly select a suit and assign it a new variable called \"which_suit\".\n",
        "    which_type = random.choice([faces,numbered]) # Assign either the \"faces\" or \"numbered\" array to the \"which_type\" variable. Do so randomly.\n",
        "    which_card = random.choice(which_type) #Randomly select a card from the \"which_type\" array - it'll be either a face or a num value\n",
        "    return which_card, \"of\", which_suit #return the randomly selected card, then word \"of\" then the randomly selected suit"
      ],
      "metadata": {
        "id": "GspD1pFXNSvw"
      },
      "execution_count": 3,
      "outputs": []
    },
    {
      "cell_type": "code",
      "source": [
        "draw() #draw function it outputs a tuple, it surrounds itself as a collection of values with parenteses"
      ],
      "metadata": {
        "colab": {
          "base_uri": "https://localhost:8080/"
        },
        "id": "rmaTKUoRNVVr",
        "outputId": "eeebdd3e-7ad8-4957-fe6c-5fd27272680c"
      },
      "execution_count": 4,
      "outputs": [
        {
          "output_type": "execute_result",
          "data": {
            "text/plain": [
              "(5, 'of', 'Hearts')"
            ]
          },
          "metadata": {},
          "execution_count": 4
        }
      ]
    },
    {
      "cell_type": "code",
      "source": [
        "draw()"
      ],
      "metadata": {
        "colab": {
          "base_uri": "https://localhost:8080/"
        },
        "id": "vSl4Q-LVOFG2",
        "outputId": "a733412f-e952-488f-bae0-3095f6c48a9e"
      },
      "execution_count": 5,
      "outputs": [
        {
          "output_type": "execute_result",
          "data": {
            "text/plain": [
              "(9, 'of', 'Diamonds')"
            ]
          },
          "metadata": {},
          "execution_count": 5
        }
      ]
    },
    {
      "cell_type": "code",
      "source": [
        "draw()"
      ],
      "metadata": {
        "colab": {
          "base_uri": "https://localhost:8080/"
        },
        "id": "-VlAsOKoOGZf",
        "outputId": "63d5b28e-e94e-41b6-b721-83c3727aa9a4"
      },
      "execution_count": 6,
      "outputs": [
        {
          "output_type": "execute_result",
          "data": {
            "text/plain": [
              "(10, 'of', 'Hearts')"
            ]
          },
          "metadata": {},
          "execution_count": 6
        }
      ]
    },
    {
      "cell_type": "code",
      "source": [
        "for n in range(5): # \"for\" loop + \"range\" BIF, loops the code 5 times\n",
        "  card = draw()\n",
        "  print(f\"{n} -> {card}\") #BIF to display msg on screen. the msg is formatted string made up from the values of \"n\" and \"card\"\n",
        ""
      ],
      "metadata": {
        "colab": {
          "base_uri": "https://localhost:8080/"
        },
        "id": "J8__LhGWOHpH",
        "outputId": "3494287d-bdbd-48f8-e429-13169cb7d44a"
      },
      "execution_count": 7,
      "outputs": [
        {
          "output_type": "stream",
          "name": "stdout",
          "text": [
            "0 -> (2, 'of', 'Spades')\n",
            "1 -> ('Ace', 'of', 'Clubs')\n",
            "2 -> ('Ace', 'of', 'Diamonds')\n",
            "3 -> ('Jack', 'of', 'Spades')\n",
            "4 -> (6, 'of', 'Spades')\n"
          ]
        }
      ]
    },
    {
      "cell_type": "code",
      "source": [],
      "metadata": {
        "id": "7jdJCOZ1gob-"
      },
      "execution_count": null,
      "outputs": []
    }
  ]
}