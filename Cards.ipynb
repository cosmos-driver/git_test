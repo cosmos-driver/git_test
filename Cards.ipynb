{
  "nbformat": 4,
  "nbformat_minor": 0,
  "metadata": {
    "colab": {
      "provenance": [],
      "authorship_tag": "ABX9TyMtoSnGsr8PDwjyRdsfBJVm",
      "include_colab_link": true
    },
    "kernelspec": {
      "name": "python3",
      "display_name": "Python 3"
    },
    "language_info": {
      "name": "python"
    }
  },
  "cells": [
    {
      "cell_type": "markdown",
      "metadata": {
        "id": "view-in-github",
        "colab_type": "text"
      },
      "source": [
        "<a href=\"https://colab.research.google.com/github/cosmos-driver/git_test/blob/main/Cards.ipynb\" target=\"_parent\"><img src=\"https://colab.research.google.com/assets/colab-badge.svg\" alt=\"Open In Colab\"/></a>"
      ]
    },
    {
      "cell_type": "code",
      "execution_count": 2,
      "metadata": {
        "id": "0QktzRBZMa2c"
      },
      "outputs": [],
      "source": [
        "suits = [\"Clubs\", \"Spades\", \"Hearts\", \"Diamonds\"] #A variable called \"suits\" is assigned an array of 4 strings, respresenting the suits in a deck of cards. *Also called a list since it starts and ends with a square bracket*\n",
        "faces = [\"Jack\", \"Queen\", \"King\", \"Ace\"] # variable called \"faces\" assigned an array of the 4 face cards.\n",
        "numbered = [2, 3, 4, 5, 6, 7, 8, 9, 10] # array called \"numbered\" represents the deck's numbered cards.\n",
        "\n",
        "\n"
      ]
    },
    {
      "cell_type": "code",
      "source": [
        "import random # A library is included to provide support for randomess"
      ],
      "metadata": {
        "id": "joRDbfg_NPd4"
      },
      "execution_count": 3,
      "outputs": []
    },
    {
      "cell_type": "code",
      "source": [
        "def draw(): #empty parenteses means its a start of a function\n",
        "    which_suit = random.choice(suits) #Randomly select a suit and assign it a new variable called \"which_suit\".\n",
        "    which_type = random.choice([faces,numbered]) # Assign either the \"faces\" or \"numbered\" array to the \"which_type\" variable. Do so randomly.\n",
        "    which_card = random.choice(which_type) #Randomly select a card from the \"which_type\" array - it'll be either a face or a num value\n",
        "    return which_card, \"of\", which_suit #return the randomly selected card, then word \"of\" then the randomly selected suit"
      ],
      "metadata": {
        "id": "GspD1pFXNSvw"
      },
      "execution_count": 4,
      "outputs": []
    },
    {
      "cell_type": "code",
      "source": [
        "draw() #draw function it outputs a tuple, it surrounds itself as a collection of values with parenteses"
      ],
      "metadata": {
        "colab": {
          "base_uri": "https://localhost:8080/"
        },
        "id": "rmaTKUoRNVVr",
        "outputId": "a3c61570-7262-429b-c856-9cdb20b129f1"
      },
      "execution_count": 5,
      "outputs": [
        {
          "output_type": "execute_result",
          "data": {
            "text/plain": [
              "('Ace', 'of', 'Diamonds')"
            ]
          },
          "metadata": {},
          "execution_count": 5
        }
      ]
    },
    {
      "cell_type": "code",
      "source": [
        "draw()"
      ],
      "metadata": {
        "id": "vSl4Q-LVOFG2",
        "colab": {
          "base_uri": "https://localhost:8080/"
        },
        "outputId": "08e46a50-00c3-4721-e737-ae3a80fd7db0"
      },
      "execution_count": 6,
      "outputs": [
        {
          "output_type": "execute_result",
          "data": {
            "text/plain": [
              "(8, 'of', 'Clubs')"
            ]
          },
          "metadata": {},
          "execution_count": 6
        }
      ]
    },
    {
      "cell_type": "code",
      "source": [
        "draw()"
      ],
      "metadata": {
        "colab": {
          "base_uri": "https://localhost:8080/"
        },
        "id": "-VlAsOKoOGZf",
        "outputId": "92bf7bb2-302a-412b-9c39-c49d75515838"
      },
      "execution_count": 7,
      "outputs": [
        {
          "output_type": "execute_result",
          "data": {
            "text/plain": [
              "(10, 'of', 'Hearts')"
            ]
          },
          "metadata": {},
          "execution_count": 7
        }
      ]
    },
    {
      "cell_type": "code",
      "source": [
        "print(deck)"
      ],
      "metadata": {
        "colab": {
          "base_uri": "https://localhost:8080/"
        },
        "id": "tz_s9b7RiN_a",
        "outputId": "a021a068-d9d3-4db8-e6dd-c75ebcccd5c2"
      },
      "execution_count": 16,
      "outputs": [
        {
          "output_type": "stream",
          "name": "stdout",
          "text": [
            "{'Queen of Spades', '7 of Clubs', 'Jack of Clubs', '4 of Spades', '2 of Hearts', 'Ace of Hearts', '3 of Clubs', '9 of Spades', '6 of Diamonds', 'Ace of Clubs', '5 of Hearts', '7 of Hearts', '4 of Diamonds', '10 of Clubs', 'Queen of Diamonds', '2 of Diamonds', '7 of Diamonds', '6 of Spades', 'King of Diamonds', '4 of Hearts', 'Ace of Spades', '3 of Spades', '8 of Spades', '6 of Hearts', '9 of Hearts', '4 of Clubs', 'King of Clubs', 'King of Hearts', '2 of Clubs', 'Queen of Clubs', 'Jack of Spades', '3 of Hearts', '5 of Clubs', 'Queen of Hearts', '6 of Clubs', '8 of Hearts', '5 of Spades', '8 of Clubs', '8 of Diamonds', '10 of Spades', '10 of Diamonds', '3 of Diamonds', '9 of Diamonds', 'Jack of Diamonds', '7 of Spades', 'Jack of Hearts', 'Ace of Diamonds', '2 of Spades', '10 of Hearts', '5 of Diamonds', 'King of Spades', '9 of Clubs'}\n"
          ]
        }
      ]
    },
    {
      "cell_type": "code",
      "source": [
        "print(sorted(deck))"
      ],
      "metadata": {
        "colab": {
          "base_uri": "https://localhost:8080/"
        },
        "id": "u_wD5caaizW5",
        "outputId": "30a5734a-b3ee-46ea-9fcc-1971143ec522"
      },
      "execution_count": 15,
      "outputs": [
        {
          "output_type": "stream",
          "name": "stdout",
          "text": [
            "['10 of Clubs', '10 of Diamonds', '10 of Hearts', '10 of Spades', '2 of Clubs', '2 of Diamonds', '2 of Hearts', '2 of Spades', '3 of Clubs', '3 of Diamonds', '3 of Hearts', '3 of Spades', '4 of Clubs', '4 of Diamonds', '4 of Hearts', '4 of Spades', '5 of Clubs', '5 of Diamonds', '5 of Hearts', '5 of Spades', '6 of Clubs', '6 of Diamonds', '6 of Hearts', '6 of Spades', '7 of Clubs', '7 of Diamonds', '7 of Hearts', '7 of Spades', '8 of Clubs', '8 of Diamonds', '8 of Hearts', '8 of Spades', '9 of Clubs', '9 of Diamonds', '9 of Hearts', '9 of Spades', 'Ace of Clubs', 'Ace of Diamonds', 'Ace of Hearts', 'Ace of Spades', 'Jack of Clubs', 'Jack of Diamonds', 'Jack of Hearts', 'Jack of Spades', 'King of Clubs', 'King of Diamonds', 'King of Hearts', 'King of Spades', 'Queen of Clubs', 'Queen of Diamonds', 'Queen of Hearts', 'Queen of Spades']\n"
          ]
        }
      ]
    },
    {
      "cell_type": "code",
      "source": [
        "for n in range(5): # \"for\" loop + \"range\" BIF, loops the code 5 times\n",
        "  card = draw()\n",
        "  print(f\"{n} -> {card}\") #BIF to display msg on screen. the msg is formatted string made up from the values of \"n\" and \"card\"\n"
      ],
      "metadata": {
        "colab": {
          "base_uri": "https://localhost:8080/"
        },
        "id": "J8__LhGWOHpH",
        "outputId": "d6696edf-8c22-44cc-88db-857d9d1a33b4"
      },
      "execution_count": 10,
      "outputs": [
        {
          "output_type": "stream",
          "name": "stdout",
          "text": [
            "0 -> (9, 'of', 'Diamonds')\n",
            "1 -> ('King', 'of', 'Diamonds')\n",
            "2 -> (4, 'of', 'Diamonds')\n",
            "3 -> ('Ace', 'of', 'Spades')\n",
            "4 -> ('Jack', 'of', 'Hearts')\n"
          ]
        }
      ]
    },
    {
      "cell_type": "code",
      "source": [
        "# cards = [\"Jack\", \"Queen\", \"King\", \"Ace\", 2, 3, 4, 5, 6, 7, 8, 9, 10]\n",
        "\n",
        "deck = set() #empty set variable called \"deck\" then set() is a BIF\n",
        "for suit in suits: #for cycles through four suit values then all of the possible card values, Jack, Q, K, A, then 2 through 10.\n",
        "  for card in faces + numbered: # OR for card in cards;\n",
        "    deck.add(f\"{card} of {suit}\")\n"
      ],
      "metadata": {
        "id": "7jdJCOZ1gob-"
      },
      "execution_count": 13,
      "outputs": []
    },
    {
      "cell_type": "code",
      "source": [
        "len(deck)"
      ],
      "metadata": {
        "id": "__ihQ0GUklnR",
        "colab": {
          "base_uri": "https://localhost:8080/"
        },
        "outputId": "3d910e4a-6c5d-48f9-8361-8a0fd770b497"
      },
      "execution_count": 14,
      "outputs": [
        {
          "output_type": "execute_result",
          "data": {
            "text/plain": [
              "52"
            ]
          },
          "metadata": {},
          "execution_count": 14
        }
      ]
    },
    {
      "cell_type": "code",
      "source": [
        "print(dir(deck))"
      ],
      "metadata": {
        "colab": {
          "base_uri": "https://localhost:8080/"
        },
        "id": "kH3mr49ar4Jh",
        "outputId": "eb1c0295-ec2d-4efc-be1a-00a9bae8ed81"
      },
      "execution_count": 17,
      "outputs": [
        {
          "output_type": "stream",
          "name": "stdout",
          "text": [
            "['__and__', '__class__', '__class_getitem__', '__contains__', '__delattr__', '__dir__', '__doc__', '__eq__', '__format__', '__ge__', '__getattribute__', '__gt__', '__hash__', '__iand__', '__init__', '__init_subclass__', '__ior__', '__isub__', '__iter__', '__ixor__', '__le__', '__len__', '__lt__', '__ne__', '__new__', '__or__', '__rand__', '__reduce__', '__reduce_ex__', '__repr__', '__ror__', '__rsub__', '__rxor__', '__setattr__', '__sizeof__', '__str__', '__sub__', '__subclasshook__', '__xor__', 'add', 'clear', 'copy', 'difference', 'difference_update', 'discard', 'intersection', 'intersection_update', 'isdisjoint', 'issubset', 'issuperset', 'pop', 'remove', 'symmetric_difference', 'symmetric_difference_update', 'union', 'update']\n"
          ]
        }
      ]
    },
    {
      "cell_type": "code",
      "source": [
        "help(deck.remove)"
      ],
      "metadata": {
        "colab": {
          "base_uri": "https://localhost:8080/"
        },
        "id": "BPrD_L9iw4Ww",
        "outputId": "43a55185-fb3d-4116-b185-a6d57eded404"
      },
      "execution_count": 18,
      "outputs": [
        {
          "output_type": "stream",
          "name": "stdout",
          "text": [
            "Help on built-in function remove:\n",
            "\n",
            "remove(...) method of builtins.set instance\n",
            "    Remove an element from a set; it must be a member.\n",
            "    \n",
            "    If the element is not a member, raise a KeyError.\n",
            "\n"
          ]
        }
      ]
    },
    {
      "cell_type": "code",
      "source": [
        "card = random.choice(list(deck))\n",
        "print(card)"
      ],
      "metadata": {
        "colab": {
          "base_uri": "https://localhost:8080/"
        },
        "id": "K5hqUP-3KeGq",
        "outputId": "19ef2340-5ba5-440e-a7e3-effc9223d771"
      },
      "execution_count": 20,
      "outputs": [
        {
          "output_type": "stream",
          "name": "stdout",
          "text": [
            "5 of Clubs\n"
          ]
        }
      ]
    },
    {
      "cell_type": "code",
      "source": [
        "deck.remove(card)\n",
        "len(deck)"
      ],
      "metadata": {
        "colab": {
          "base_uri": "https://localhost:8080/"
        },
        "id": "ELDvwzEeLHfx",
        "outputId": "b2706495-c346-4a45-aee6-dfa96553aa08"
      },
      "execution_count": 21,
      "outputs": [
        {
          "output_type": "execute_result",
          "data": {
            "text/plain": [
              "51"
            ]
          },
          "metadata": {},
          "execution_count": 21
        }
      ]
    },
    {
      "cell_type": "code",
      "source": [
        "type(card)"
      ],
      "metadata": {
        "colab": {
          "base_uri": "https://localhost:8080/"
        },
        "id": "YB2Aw7OfMr87",
        "outputId": "4d3556c9-7f9f-43da-8c62-7decb1a20a98"
      },
      "execution_count": 22,
      "outputs": [
        {
          "output_type": "execute_result",
          "data": {
            "text/plain": [
              "str"
            ]
          },
          "metadata": {},
          "execution_count": 22
        }
      ]
    },
    {
      "cell_type": "code",
      "source": [
        "card"
      ],
      "metadata": {
        "colab": {
          "base_uri": "https://localhost:8080/",
          "height": 35
        },
        "id": "oFXUt2m9Mx3q",
        "outputId": "640604d9-6b81-4622-bb10-db0253e48a6c"
      },
      "execution_count": 23,
      "outputs": [
        {
          "output_type": "execute_result",
          "data": {
            "text/plain": [
              "'5 of Clubs'"
            ],
            "application/vnd.google.colaboratory.intrinsic+json": {
              "type": "string"
            }
          },
          "metadata": {},
          "execution_count": 23
        }
      ]
    },
    {
      "cell_type": "code",
      "source": [
        "print(dir(card))"
      ],
      "metadata": {
        "colab": {
          "base_uri": "https://localhost:8080/"
        },
        "id": "-vWSurl9M2XS",
        "outputId": "19c3effc-4ecc-4e42-d037-03e25c9227d6"
      },
      "execution_count": 24,
      "outputs": [
        {
          "output_type": "stream",
          "name": "stdout",
          "text": [
            "['__add__', '__class__', '__contains__', '__delattr__', '__dir__', '__doc__', '__eq__', '__format__', '__ge__', '__getattribute__', '__getitem__', '__getnewargs__', '__gt__', '__hash__', '__init__', '__init_subclass__', '__iter__', '__le__', '__len__', '__lt__', '__mod__', '__mul__', '__ne__', '__new__', '__reduce__', '__reduce_ex__', '__repr__', '__rmod__', '__rmul__', '__setattr__', '__sizeof__', '__str__', '__subclasshook__', 'capitalize', 'casefold', 'center', 'count', 'encode', 'endswith', 'expandtabs', 'find', 'format', 'format_map', 'index', 'isalnum', 'isalpha', 'isascii', 'isdecimal', 'isdigit', 'isidentifier', 'islower', 'isnumeric', 'isprintable', 'isspace', 'istitle', 'isupper', 'join', 'ljust', 'lower', 'lstrip', 'maketrans', 'partition', 'removeprefix', 'removesuffix', 'replace', 'rfind', 'rindex', 'rjust', 'rpartition', 'rsplit', 'rstrip', 'split', 'splitlines', 'startswith', 'strip', 'swapcase', 'title', 'translate', 'upper', 'zfill']\n"
          ]
        }
      ]
    },
    {
      "cell_type": "code",
      "source": [
        "def draw():\n",
        "  card = random.choice(list(deck))\n",
        "  deck.remove(card)\n",
        "  return card"
      ],
      "metadata": {
        "id": "R0KuvVtFNAbx"
      },
      "execution_count": 35,
      "outputs": []
    },
    {
      "cell_type": "code",
      "source": [
        "len(card)"
      ],
      "metadata": {
        "colab": {
          "base_uri": "https://localhost:8080/"
        },
        "id": "2rXGYtrnRkKe",
        "outputId": "f42787ab-0ad0-4c9c-9eb4-7d6bd6cbf0f2"
      },
      "execution_count": 26,
      "outputs": [
        {
          "output_type": "execute_result",
          "data": {
            "text/plain": [
              "10"
            ]
          },
          "metadata": {},
          "execution_count": 26
        }
      ]
    },
    {
      "cell_type": "code",
      "source": [
        "draw()"
      ],
      "metadata": {
        "colab": {
          "base_uri": "https://localhost:8080/",
          "height": 35
        },
        "id": "NePRfe59R6NE",
        "outputId": "0860200c-5bcc-4d0a-ef4a-92eb5139bbe0"
      },
      "execution_count": 27,
      "outputs": [
        {
          "output_type": "execute_result",
          "data": {
            "text/plain": [
              "'8 of Spades'"
            ],
            "application/vnd.google.colaboratory.intrinsic+json": {
              "type": "string"
            }
          },
          "metadata": {},
          "execution_count": 27
        }
      ]
    },
    {
      "cell_type": "code",
      "source": [
        "deck = set()\n",
        "for suit in suits:\n",
        "  for card in faces + numbered:\n",
        "    deck.add(f\"{card} of {suit}\")"
      ],
      "metadata": {
        "id": "9dnCWPzjV9B3"
      },
      "execution_count": 36,
      "outputs": []
    },
    {
      "cell_type": "code",
      "source": [
        "len(deck)"
      ],
      "metadata": {
        "colab": {
          "base_uri": "https://localhost:8080/"
        },
        "id": "-SjGI7HGYOOv",
        "outputId": "ef081883-1d30-411a-f6b5-9eb08d78626a"
      },
      "execution_count": 29,
      "outputs": [
        {
          "output_type": "execute_result",
          "data": {
            "text/plain": [
              "52"
            ]
          },
          "metadata": {},
          "execution_count": 29
        }
      ]
    },
    {
      "cell_type": "code",
      "source": [
        "for _ in range(5):\n",
        "  print(draw())"
      ],
      "metadata": {
        "colab": {
          "base_uri": "https://localhost:8080/"
        },
        "id": "l_0ZYFPfYPgH",
        "outputId": "01cdca66-34b5-4709-bcf0-0318f99cd095"
      },
      "execution_count": 37,
      "outputs": [
        {
          "output_type": "stream",
          "name": "stdout",
          "text": [
            "King of Hearts\n",
            "King of Diamonds\n",
            "4 of Hearts\n",
            "Jack of Hearts\n",
            "5 of Diamonds\n"
          ]
        }
      ]
    },
    {
      "cell_type": "code",
      "source": [
        "len(deck)"
      ],
      "metadata": {
        "colab": {
          "base_uri": "https://localhost:8080/"
        },
        "id": "-9-sB7PKYxH3",
        "outputId": "1da2ba55-12a4-41c5-e634-1d268b0256cc"
      },
      "execution_count": 31,
      "outputs": [
        {
          "output_type": "execute_result",
          "data": {
            "text/plain": [
              "47"
            ]
          },
          "metadata": {},
          "execution_count": 31
        }
      ]
    },
    {
      "cell_type": "code",
      "source": [
        "'9 of Clubs' in deck # in operator performs a search"
      ],
      "metadata": {
        "colab": {
          "base_uri": "https://localhost:8080/"
        },
        "id": "Yz8PpE-kYzy3",
        "outputId": "012bee4d-6af4-49b3-bf14-9274c2768ab2"
      },
      "execution_count": 32,
      "outputs": [
        {
          "output_type": "execute_result",
          "data": {
            "text/plain": [
              "False"
            ]
          },
          "metadata": {},
          "execution_count": 32
        }
      ]
    },
    {
      "cell_type": "code",
      "source": [
        "'8 of Clubs' in deck"
      ],
      "metadata": {
        "colab": {
          "base_uri": "https://localhost:8080/"
        },
        "id": "v7aY9s3sZYf_",
        "outputId": "4752deba-6702-4b1c-f252-944e15945d4e"
      },
      "execution_count": 33,
      "outputs": [
        {
          "output_type": "execute_result",
          "data": {
            "text/plain": [
              "True"
            ]
          },
          "metadata": {},
          "execution_count": 33
        }
      ]
    },
    {
      "cell_type": "code",
      "source": [
        "if '4 of Hearts' not in deck:\n",
        "  print(\"Draw another card. That one's taken.\")\n",
        "else:\n",
        "    print(\"Draw! Draw! Draw !\")"
      ],
      "metadata": {
        "colab": {
          "base_uri": "https://localhost:8080/"
        },
        "id": "NbSqyKlAZciP",
        "outputId": "477b9eb2-f2eb-4196-ac52-8919ea3a89a0"
      },
      "execution_count": 39,
      "outputs": [
        {
          "output_type": "stream",
          "name": "stdout",
          "text": [
            "Draw another card. That one's taken.\n"
          ]
        }
      ]
    },
    {
      "cell_type": "code",
      "source": [],
      "metadata": {
        "id": "WghWTY3moJEd"
      },
      "execution_count": null,
      "outputs": []
    }
  ]
}